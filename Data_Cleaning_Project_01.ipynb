{
 "cells": [
  {
   "cell_type": "markdown",
   "id": "0b3b834e-860a-46f5-921d-2a38666a3c97",
   "metadata": {},
   "source": [
    "# Data Cleaning Project 01"
   ]
  },
  {
   "cell_type": "markdown",
   "id": "c289ae5a-25ef-4d16-b2c7-d9ca0f6cf815",
   "metadata": {},
   "source": [
    "### Import Libraries"
   ]
  },
  {
   "cell_type": "code",
   "execution_count": 61,
   "id": "d07bb447-c716-4f79-842f-986870eebddd",
   "metadata": {},
   "outputs": [],
   "source": [
    "import pandas as pd\n",
    "import numpy as np\n",
    "import re\n",
    "import seaborn as sns\n",
    "import matplotlib.pyplot as plt\n",
    "from datetime import datetime\n",
    "import os\n",
    "\n",
    "# Ensure output directory exists\n",
    "if not os.path.exists('output'):\n",
    "    os.makedirs('output')"
   ]
  },
  {
   "cell_type": "markdown",
   "id": "a1390754-9706-4523-8443-e97750172428",
   "metadata": {},
   "source": [
    "### Import CSV File"
   ]
  },
  {
   "cell_type": "code",
   "execution_count": 9,
   "id": "024992a8-4a23-4c37-a7fe-8e102418eb65",
   "metadata": {},
   "outputs": [
    {
     "data": {
      "text/html": [
       "<div>\n",
       "<style scoped>\n",
       "    .dataframe tbody tr th:only-of-type {\n",
       "        vertical-align: middle;\n",
       "    }\n",
       "\n",
       "    .dataframe tbody tr th {\n",
       "        vertical-align: top;\n",
       "    }\n",
       "\n",
       "    .dataframe thead th {\n",
       "        text-align: right;\n",
       "    }\n",
       "</style>\n",
       "<table border=\"1\" class=\"dataframe\">\n",
       "  <thead>\n",
       "    <tr style=\"text-align: right;\">\n",
       "      <th></th>\n",
       "      <th>CustomerID</th>\n",
       "      <th>CustomerName</th>\n",
       "      <th>Email</th>\n",
       "      <th>OrderDate</th>\n",
       "      <th>ProductCategory</th>\n",
       "      <th>Price</th>\n",
       "      <th>Rating</th>\n",
       "    </tr>\n",
       "  </thead>\n",
       "  <tbody>\n",
       "    <tr>\n",
       "      <th>0</th>\n",
       "      <td>1102</td>\n",
       "      <td>customer 0</td>\n",
       "      <td>customer0@example.com</td>\n",
       "      <td>2023-12-31</td>\n",
       "      <td>Books</td>\n",
       "      <td>51.18</td>\n",
       "      <td>5.0</td>\n",
       "    </tr>\n",
       "    <tr>\n",
       "      <th>1</th>\n",
       "      <td>1435</td>\n",
       "      <td>customer 1</td>\n",
       "      <td>customer1@example.com</td>\n",
       "      <td>2023-01-05</td>\n",
       "      <td>Books</td>\n",
       "      <td>55.38</td>\n",
       "      <td>5.0</td>\n",
       "    </tr>\n",
       "    <tr>\n",
       "      <th>2</th>\n",
       "      <td>1860</td>\n",
       "      <td>customer 2</td>\n",
       "      <td>customer2@example.com</td>\n",
       "      <td>04/29/23</td>\n",
       "      <td>Clothing</td>\n",
       "      <td>117.75</td>\n",
       "      <td>3.0</td>\n",
       "    </tr>\n",
       "    <tr>\n",
       "      <th>3</th>\n",
       "      <td>1270</td>\n",
       "      <td>CUSTOMER 3</td>\n",
       "      <td>customer3@example.com</td>\n",
       "      <td>10/16/23</td>\n",
       "      <td>Clothing</td>\n",
       "      <td>88.94</td>\n",
       "      <td>3.0</td>\n",
       "    </tr>\n",
       "    <tr>\n",
       "      <th>4</th>\n",
       "      <td>1106</td>\n",
       "      <td>customer 4</td>\n",
       "      <td>customer4@example.com</td>\n",
       "      <td>2023-03-06</td>\n",
       "      <td>Clothing</td>\n",
       "      <td>57.99</td>\n",
       "      <td>5.0</td>\n",
       "    </tr>\n",
       "  </tbody>\n",
       "</table>\n",
       "</div>"
      ],
      "text/plain": [
       "   CustomerID CustomerName                  Email   OrderDate ProductCategory  \\\n",
       "0        1102   customer 0  customer0@example.com  2023-12-31           Books   \n",
       "1        1435   customer 1  customer1@example.com  2023-01-05           Books   \n",
       "2        1860   customer 2  customer2@example.com    04/29/23        Clothing   \n",
       "3        1270   CUSTOMER 3  customer3@example.com    10/16/23        Clothing   \n",
       "4        1106   customer 4  customer4@example.com  2023-03-06        Clothing   \n",
       "\n",
       "    Price  Rating  \n",
       "0   51.18     5.0  \n",
       "1   55.38     5.0  \n",
       "2  117.75     3.0  \n",
       "3   88.94     3.0  \n",
       "4   57.99     5.0  "
      ]
     },
     "execution_count": 9,
     "metadata": {},
     "output_type": "execute_result"
    }
   ],
   "source": [
    "df = pd.read_csv(\"Messy_Data.CSV\")\n",
    "df.head()"
   ]
  },
  {
   "cell_type": "markdown",
   "id": "f8245a18-a032-4fa5-ad31-3bad3cbcc7bd",
   "metadata": {},
   "source": [
    "### Data Understanding"
   ]
  },
  {
   "cell_type": "code",
   "execution_count": 11,
   "id": "39053035-c273-4e83-9416-b145ab798991",
   "metadata": {},
   "outputs": [
    {
     "name": "stdout",
     "output_type": "stream",
     "text": [
      "<class 'pandas.core.frame.DataFrame'>\n",
      "RangeIndex: 1020 entries, 0 to 1019\n",
      "Data columns (total 7 columns):\n",
      " #   Column           Non-Null Count  Dtype  \n",
      "---  ------           --------------  -----  \n",
      " 0   CustomerID       1020 non-null   int64  \n",
      " 1   CustomerName     1020 non-null   object \n",
      " 2   Email            972 non-null    object \n",
      " 3   OrderDate        1020 non-null   object \n",
      " 4   ProductCategory  1020 non-null   object \n",
      " 5   Price            1000 non-null   float64\n",
      " 6   Rating           973 non-null    float64\n",
      "dtypes: float64(2), int64(1), object(4)\n",
      "memory usage: 55.9+ KB\n"
     ]
    }
   ],
   "source": [
    "df.info()"
   ]
  },
  {
   "cell_type": "markdown",
   "id": "41fa71a2-1a76-43d6-ac0d-b9b66d9e1ecb",
   "metadata": {},
   "source": [
    "### Identify and Handle Missing Data"
   ]
  },
  {
   "cell_type": "code",
   "execution_count": 13,
   "id": "6f67567b-b274-49c6-befa-0ceedbc41d16",
   "metadata": {},
   "outputs": [
    {
     "name": "stdout",
     "output_type": "stream",
     "text": [
      "Missing values before cleaning:\n",
      "CustomerID          0\n",
      "CustomerName        0\n",
      "Email              48\n",
      "OrderDate           0\n",
      "ProductCategory     0\n",
      "Price              20\n",
      "Rating             47\n",
      "dtype: int64\n"
     ]
    }
   ],
   "source": [
    "print(\"Missing values before cleaning:\")\n",
    "print(df.isnull().sum())"
   ]
  },
  {
   "cell_type": "markdown",
   "id": "63b8fbef-cc98-4db4-b16c-f9443e7c05f2",
   "metadata": {},
   "source": [
    "`Insights:` Dataset includes -\n",
    "- Rows/Columns : 1020/7\n",
    "- Email column have 48 null values\n",
    "- Price column have 20 null values\n",
    "- Rating column have 47 null values"
   ]
  },
  {
   "cell_type": "code",
   "execution_count": 22,
   "id": "faedcfdb-f919-463a-adff-3b2653165a58",
   "metadata": {},
   "outputs": [],
   "source": [
    "# Impute Email with placeholder\n",
    "\n",
    "df['Email'] = df['Email'].fillna('unknown@example.com')"
   ]
  },
  {
   "cell_type": "code",
   "execution_count": 25,
   "id": "479e5a4e-e0f4-4782-8dee-e0c9b0e6ac15",
   "metadata": {},
   "outputs": [],
   "source": [
    "# Impute Rating with median\n",
    "\n",
    "df['Rating'] = df['Rating'].fillna(df['Rating'].median())"
   ]
  },
  {
   "cell_type": "code",
   "execution_count": 27,
   "id": "71ca41cb-7411-4ceb-bfa9-01f2f53e3312",
   "metadata": {},
   "outputs": [],
   "source": [
    "# Drop rows with missing Price (critical for analysis)\n",
    "\n",
    "df.dropna(subset=['Price'], inplace=True)"
   ]
  },
  {
   "cell_type": "code",
   "execution_count": 29,
   "id": "5984be0a-9551-47fd-a69c-97a492a4a55e",
   "metadata": {},
   "outputs": [
    {
     "name": "stdout",
     "output_type": "stream",
     "text": [
      "\n",
      "Missing values after cleaning:\n",
      "CustomerID         0\n",
      "CustomerName       0\n",
      "Email              0\n",
      "OrderDate          0\n",
      "ProductCategory    0\n",
      "Price              0\n",
      "Rating             0\n",
      "dtype: int64\n"
     ]
    }
   ],
   "source": [
    "print(\"\\nMissing values after cleaning:\")\n",
    "print(df.isnull().sum())"
   ]
  },
  {
   "cell_type": "markdown",
   "id": "18a6ae07-d61b-4f46-888b-481494bac0f1",
   "metadata": {},
   "source": [
    "### Remove Duplicates and Handle Outliers"
   ]
  },
  {
   "cell_type": "code",
   "execution_count": 37,
   "id": "83680f26-6344-4f24-9f2d-1f4f92af1835",
   "metadata": {},
   "outputs": [
    {
     "name": "stdout",
     "output_type": "stream",
     "text": [
      "Number of rows after removing duplicates: 987\n"
     ]
    }
   ],
   "source": [
    "# Remove duplicates based on CustomerID and OrderDate\n",
    "\n",
    "df.drop_duplicates(subset=['CustomerID', 'OrderDate'], keep='first', inplace=True)\n",
    "print(f\"Number of rows after removing duplicates: {len(df)}\")"
   ]
  },
  {
   "cell_type": "code",
   "execution_count": 39,
   "id": "e172e9db-698f-4789-b3e5-f4820d46eba1",
   "metadata": {},
   "outputs": [
    {
     "name": "stdout",
     "output_type": "stream",
     "text": [
      "Price outliers capped. New min: 0.0, max: 236.40750000000003\n"
     ]
    }
   ],
   "source": [
    "# Handle outliers in Price using IQR\n",
    "\n",
    "Q1 = df['Price'].quantile(0.25)\n",
    "Q3 = df['Price'].quantile(0.75)\n",
    "IQR = Q3 - Q1\n",
    "lower_bound = Q1 - 1.5 * IQR\n",
    "upper_bound = Q3 + 1.5 * IQR\n",
    "\n",
    "# Cap outliers\n",
    "\n",
    "df['Price'] = df['Price'].clip(lower=0, upper=upper_bound)\n",
    "print(f\"Price outliers capped. New min: {df['Price'].min()}, max: {df['Price'].max()}\")"
   ]
  },
  {
   "cell_type": "markdown",
   "id": "e9eff0b1-53a3-4dd8-b457-1af692b6e11c",
   "metadata": {},
   "source": [
    "### Standardize Data Entries"
   ]
  },
  {
   "cell_type": "code",
   "execution_count": 42,
   "id": "dc86a611-3084-4b99-a1f0-89fdd7d0e8dd",
   "metadata": {},
   "outputs": [],
   "source": [
    "# Standardize CustomerName to title case\n",
    "\n",
    "df['CustomerName'] = df['CustomerName'].str.title()"
   ]
  },
  {
   "cell_type": "code",
   "execution_count": 44,
   "id": "67423ec1-0358-4a38-b092-181a4122b1ea",
   "metadata": {},
   "outputs": [],
   "source": [
    "# Validate and standardize Email\n",
    "\n",
    "def validate_email(email):\n",
    "    pattern = r'^[a-zA-Z0-9._%+-]+@[a-zA-Z0-9.-]+\\.[a-zA-Z]{2,}$'\n",
    "    return bool(re.match(pattern, email))\n",
    "\n",
    "df['Email'] = df['Email'].apply(lambda x: x if validate_email(x) else 'invalid@example.com')"
   ]
  },
  {
   "cell_type": "code",
   "execution_count": 46,
   "id": "c34cb410-8e04-409d-a4da-dd58abf0068e",
   "metadata": {},
   "outputs": [],
   "source": [
    "# Standardize OrderDate to YYYY-MM-DD\n",
    "\n",
    "df['OrderDate'] = pd.to_datetime(df['OrderDate'], errors='coerce').dt.strftime('%Y-%m-%d')"
   ]
  },
  {
   "cell_type": "code",
   "execution_count": 48,
   "id": "514f1123-7a07-44c9-b68b-64d8bfc2b2cd",
   "metadata": {},
   "outputs": [],
   "source": [
    "# Correct ProductCategory misspellings\n",
    "\n",
    "category_mapping = {'Electornics': 'Electronics', 'Clothng': 'Clothing'}\n",
    "df['ProductCategory'] = df['ProductCategory'].replace(category_mapping)"
   ]
  },
  {
   "cell_type": "markdown",
   "id": "8ba37ae7-b4bb-41a5-b095-d5be59f27d03",
   "metadata": {},
   "source": [
    "### Save the cleaned dataset"
   ]
  },
  {
   "cell_type": "code",
   "execution_count": 51,
   "id": "f66dcaa4-8352-47bd-9450-5282e4038759",
   "metadata": {},
   "outputs": [
    {
     "name": "stdout",
     "output_type": "stream",
     "text": [
      "\n",
      "Cleaned dataset saved as 'Messy_Data_Cleaned.csv'\n",
      "\n",
      "Sample of cleaned dataset:\n"
     ]
    },
    {
     "data": {
      "text/html": [
       "<div>\n",
       "<style scoped>\n",
       "    .dataframe tbody tr th:only-of-type {\n",
       "        vertical-align: middle;\n",
       "    }\n",
       "\n",
       "    .dataframe tbody tr th {\n",
       "        vertical-align: top;\n",
       "    }\n",
       "\n",
       "    .dataframe thead th {\n",
       "        text-align: right;\n",
       "    }\n",
       "</style>\n",
       "<table border=\"1\" class=\"dataframe\">\n",
       "  <thead>\n",
       "    <tr style=\"text-align: right;\">\n",
       "      <th></th>\n",
       "      <th>CustomerID</th>\n",
       "      <th>CustomerName</th>\n",
       "      <th>Email</th>\n",
       "      <th>OrderDate</th>\n",
       "      <th>ProductCategory</th>\n",
       "      <th>Price</th>\n",
       "      <th>Rating</th>\n",
       "    </tr>\n",
       "  </thead>\n",
       "  <tbody>\n",
       "    <tr>\n",
       "      <th>0</th>\n",
       "      <td>1102</td>\n",
       "      <td>Customer 0</td>\n",
       "      <td>customer0@example.com</td>\n",
       "      <td>2023-12-31</td>\n",
       "      <td>Books</td>\n",
       "      <td>51.18</td>\n",
       "      <td>5.0</td>\n",
       "    </tr>\n",
       "    <tr>\n",
       "      <th>1</th>\n",
       "      <td>1435</td>\n",
       "      <td>Customer 1</td>\n",
       "      <td>customer1@example.com</td>\n",
       "      <td>2023-01-05</td>\n",
       "      <td>Books</td>\n",
       "      <td>55.38</td>\n",
       "      <td>5.0</td>\n",
       "    </tr>\n",
       "    <tr>\n",
       "      <th>2</th>\n",
       "      <td>1860</td>\n",
       "      <td>Customer 2</td>\n",
       "      <td>customer2@example.com</td>\n",
       "      <td>NaN</td>\n",
       "      <td>Clothing</td>\n",
       "      <td>117.75</td>\n",
       "      <td>3.0</td>\n",
       "    </tr>\n",
       "    <tr>\n",
       "      <th>3</th>\n",
       "      <td>1270</td>\n",
       "      <td>Customer 3</td>\n",
       "      <td>customer3@example.com</td>\n",
       "      <td>NaN</td>\n",
       "      <td>Clothing</td>\n",
       "      <td>88.94</td>\n",
       "      <td>3.0</td>\n",
       "    </tr>\n",
       "    <tr>\n",
       "      <th>4</th>\n",
       "      <td>1106</td>\n",
       "      <td>Customer 4</td>\n",
       "      <td>customer4@example.com</td>\n",
       "      <td>2023-03-06</td>\n",
       "      <td>Clothing</td>\n",
       "      <td>57.99</td>\n",
       "      <td>5.0</td>\n",
       "    </tr>\n",
       "  </tbody>\n",
       "</table>\n",
       "</div>"
      ],
      "text/plain": [
       "   CustomerID CustomerName                  Email   OrderDate ProductCategory  \\\n",
       "0        1102   Customer 0  customer0@example.com  2023-12-31           Books   \n",
       "1        1435   Customer 1  customer1@example.com  2023-01-05           Books   \n",
       "2        1860   Customer 2  customer2@example.com         NaN        Clothing   \n",
       "3        1270   Customer 3  customer3@example.com         NaN        Clothing   \n",
       "4        1106   Customer 4  customer4@example.com  2023-03-06        Clothing   \n",
       "\n",
       "    Price  Rating  \n",
       "0   51.18     5.0  \n",
       "1   55.38     5.0  \n",
       "2  117.75     3.0  \n",
       "3   88.94     3.0  \n",
       "4   57.99     5.0  "
      ]
     },
     "execution_count": 51,
     "metadata": {},
     "output_type": "execute_result"
    }
   ],
   "source": [
    "df.to_csv('Messy_Data_Cleaned.csv', index=False)\n",
    "print(\"\\nCleaned dataset saved as 'Messy_Data_Cleaned.csv'\")\n",
    "print(\"\\nSample of cleaned dataset:\")\n",
    "df.head()"
   ]
  },
  {
   "cell_type": "code",
   "execution_count": 55,
   "id": "f3aa56c4-b3d1-4b29-9afb-08e6f2c38089",
   "metadata": {},
   "outputs": [
    {
     "name": "stdout",
     "output_type": "stream",
     "text": [
      "\n",
      "Summary statistics of cleaned data:\n"
     ]
    },
    {
     "data": {
      "text/html": [
       "<div>\n",
       "<style scoped>\n",
       "    .dataframe tbody tr th:only-of-type {\n",
       "        vertical-align: middle;\n",
       "    }\n",
       "\n",
       "    .dataframe tbody tr th {\n",
       "        vertical-align: top;\n",
       "    }\n",
       "\n",
       "    .dataframe thead th {\n",
       "        text-align: right;\n",
       "    }\n",
       "</style>\n",
       "<table border=\"1\" class=\"dataframe\">\n",
       "  <thead>\n",
       "    <tr style=\"text-align: right;\">\n",
       "      <th></th>\n",
       "      <th>CustomerID</th>\n",
       "      <th>CustomerName</th>\n",
       "      <th>Email</th>\n",
       "      <th>OrderDate</th>\n",
       "      <th>ProductCategory</th>\n",
       "      <th>Price</th>\n",
       "      <th>Rating</th>\n",
       "    </tr>\n",
       "  </thead>\n",
       "  <tbody>\n",
       "    <tr>\n",
       "      <th>count</th>\n",
       "      <td>987.000000</td>\n",
       "      <td>987</td>\n",
       "      <td>987</td>\n",
       "      <td>679</td>\n",
       "      <td>987</td>\n",
       "      <td>987.000000</td>\n",
       "      <td>987.000000</td>\n",
       "    </tr>\n",
       "    <tr>\n",
       "      <th>unique</th>\n",
       "      <td>NaN</td>\n",
       "      <td>980</td>\n",
       "      <td>934</td>\n",
       "      <td>310</td>\n",
       "      <td>3</td>\n",
       "      <td>NaN</td>\n",
       "      <td>NaN</td>\n",
       "    </tr>\n",
       "    <tr>\n",
       "      <th>top</th>\n",
       "      <td>NaN</td>\n",
       "      <td>Customer 811</td>\n",
       "      <td>unknown@example.com</td>\n",
       "      <td>2023-04-08</td>\n",
       "      <td>Clothing</td>\n",
       "      <td>NaN</td>\n",
       "      <td>NaN</td>\n",
       "    </tr>\n",
       "    <tr>\n",
       "      <th>freq</th>\n",
       "      <td>NaN</td>\n",
       "      <td>2</td>\n",
       "      <td>47</td>\n",
       "      <td>6</td>\n",
       "      <td>412</td>\n",
       "      <td>NaN</td>\n",
       "      <td>NaN</td>\n",
       "    </tr>\n",
       "    <tr>\n",
       "      <th>mean</th>\n",
       "      <td>1501.087133</td>\n",
       "      <td>NaN</td>\n",
       "      <td>NaN</td>\n",
       "      <td>NaN</td>\n",
       "      <td>NaN</td>\n",
       "      <td>98.880426</td>\n",
       "      <td>3.205674</td>\n",
       "    </tr>\n",
       "    <tr>\n",
       "      <th>std</th>\n",
       "      <td>289.453672</td>\n",
       "      <td>NaN</td>\n",
       "      <td>NaN</td>\n",
       "      <td>NaN</td>\n",
       "      <td>NaN</td>\n",
       "      <td>49.775098</td>\n",
       "      <td>1.318171</td>\n",
       "    </tr>\n",
       "    <tr>\n",
       "      <th>min</th>\n",
       "      <td>1000.000000</td>\n",
       "      <td>NaN</td>\n",
       "      <td>NaN</td>\n",
       "      <td>NaN</td>\n",
       "      <td>NaN</td>\n",
       "      <td>0.000000</td>\n",
       "      <td>1.000000</td>\n",
       "    </tr>\n",
       "    <tr>\n",
       "      <th>25%</th>\n",
       "      <td>1240.500000</td>\n",
       "      <td>NaN</td>\n",
       "      <td>NaN</td>\n",
       "      <td>NaN</td>\n",
       "      <td>NaN</td>\n",
       "      <td>64.345000</td>\n",
       "      <td>2.000000</td>\n",
       "    </tr>\n",
       "    <tr>\n",
       "      <th>50%</th>\n",
       "      <td>1502.000000</td>\n",
       "      <td>NaN</td>\n",
       "      <td>NaN</td>\n",
       "      <td>NaN</td>\n",
       "      <td>NaN</td>\n",
       "      <td>100.290000</td>\n",
       "      <td>3.000000</td>\n",
       "    </tr>\n",
       "    <tr>\n",
       "      <th>75%</th>\n",
       "      <td>1750.500000</td>\n",
       "      <td>NaN</td>\n",
       "      <td>NaN</td>\n",
       "      <td>NaN</td>\n",
       "      <td>NaN</td>\n",
       "      <td>133.170000</td>\n",
       "      <td>4.000000</td>\n",
       "    </tr>\n",
       "    <tr>\n",
       "      <th>max</th>\n",
       "      <td>1998.000000</td>\n",
       "      <td>NaN</td>\n",
       "      <td>NaN</td>\n",
       "      <td>NaN</td>\n",
       "      <td>NaN</td>\n",
       "      <td>236.407500</td>\n",
       "      <td>5.000000</td>\n",
       "    </tr>\n",
       "  </tbody>\n",
       "</table>\n",
       "</div>"
      ],
      "text/plain": [
       "         CustomerID  CustomerName                Email   OrderDate  \\\n",
       "count    987.000000           987                  987         679   \n",
       "unique          NaN           980                  934         310   \n",
       "top             NaN  Customer 811  unknown@example.com  2023-04-08   \n",
       "freq            NaN             2                   47           6   \n",
       "mean    1501.087133           NaN                  NaN         NaN   \n",
       "std      289.453672           NaN                  NaN         NaN   \n",
       "min     1000.000000           NaN                  NaN         NaN   \n",
       "25%     1240.500000           NaN                  NaN         NaN   \n",
       "50%     1502.000000           NaN                  NaN         NaN   \n",
       "75%     1750.500000           NaN                  NaN         NaN   \n",
       "max     1998.000000           NaN                  NaN         NaN   \n",
       "\n",
       "       ProductCategory       Price      Rating  \n",
       "count              987  987.000000  987.000000  \n",
       "unique               3         NaN         NaN  \n",
       "top           Clothing         NaN         NaN  \n",
       "freq               412         NaN         NaN  \n",
       "mean               NaN   98.880426    3.205674  \n",
       "std                NaN   49.775098    1.318171  \n",
       "min                NaN    0.000000    1.000000  \n",
       "25%                NaN   64.345000    2.000000  \n",
       "50%                NaN  100.290000    3.000000  \n",
       "75%                NaN  133.170000    4.000000  \n",
       "max                NaN  236.407500    5.000000  "
      ]
     },
     "execution_count": 55,
     "metadata": {},
     "output_type": "execute_result"
    }
   ],
   "source": [
    "# Summary statistics of cleaned data\n",
    "\n",
    "print(\"\\nSummary statistics of cleaned data:\")\n",
    "df.describe(include='all')"
   ]
  },
  {
   "cell_type": "code",
   "execution_count": null,
   "id": "3d5d01e1-73c1-42e2-8e35-6b9978ebf564",
   "metadata": {},
   "outputs": [],
   "source": []
  }
 ],
 "metadata": {
  "kernelspec": {
   "display_name": "Python [conda env:base] *",
   "language": "python",
   "name": "conda-base-py"
  },
  "language_info": {
   "codemirror_mode": {
    "name": "ipython",
    "version": 3
   },
   "file_extension": ".py",
   "mimetype": "text/x-python",
   "name": "python",
   "nbconvert_exporter": "python",
   "pygments_lexer": "ipython3",
   "version": "3.12.7"
  }
 },
 "nbformat": 4,
 "nbformat_minor": 5
}
